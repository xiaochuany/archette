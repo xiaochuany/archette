{
 "cells": [
  {
   "cell_type": "markdown",
   "metadata": {},
   "source": [
    "# core\n",
    "\n",
    "> implements zero mean GARCH(1,1) model with Gaussian noise"
   ]
  },
  {
   "cell_type": "code",
   "execution_count": null,
   "metadata": {},
   "outputs": [],
   "source": [
    "#| default_exp core"
   ]
  },
  {
   "cell_type": "code",
   "execution_count": null,
   "metadata": {},
   "outputs": [],
   "source": [
    "#| hide\n",
    "from nbdev.showdoc import *"
   ]
  },
  {
   "cell_type": "code",
   "execution_count": null,
   "metadata": {},
   "outputs": [],
   "source": [
    "#|export\n",
    "from functools import cached_property\n",
    "from typing import Literal\n",
    "import numpy as np\n",
    "from numba import njit\n",
    "from arch import arch_model\n",
    "from scipy.optimize import minimize"
   ]
  },
  {
   "cell_type": "code",
   "execution_count": null,
   "metadata": {},
   "outputs": [],
   "source": [
    "#| export\n",
    "CONSTRAINT = {\n",
    "    \"type\": \"ineq\",\n",
    "    \"fun\": lambda x: 1-x[1]-x[2]\n",
    "}"
   ]
  },
  {
   "cell_type": "code",
   "execution_count": null,
   "metadata": {},
   "outputs": [],
   "source": [
    "#|export\n",
    "\n",
    "# @njit\n",
    "def _get_vs(y, params, sig2_init):\n",
    "    \"\"\"\n",
    "    not clear how arch package initialize the conditional variance at time 0\n",
    "    seems very close to be the sample variance of y;\n",
    "    it is provably true that vs computed below\n",
    "    is insensitive to the initial value (coupling exponentially fast)\n",
    "    \"\"\"\n",
    "    om,al,be = params\n",
    "    vs = np.full(y.size, sig2_init)\n",
    "    for i in range(1,y.size):\n",
    "        vs[i] = om + al * y[i-1]**2 + be * vs[i-1]\n",
    "    return vs"
   ]
  },
  {
   "cell_type": "code",
   "execution_count": null,
   "metadata": {},
   "outputs": [],
   "source": [
    "#|export\n",
    "def _nllgauss(y,params,sig2_init):\n",
    "    vs = _get_vs(y,params, sig2_init)\n",
    "    nll =  np.log(vs) + y**2 / vs\n",
    "    return nll.sum()"
   ]
  },
  {
   "cell_type": "code",
   "execution_count": null,
   "metadata": {},
   "outputs": [],
   "source": [
    "#|export\n",
    "\n",
    "@njit\n",
    "def _make_fcst_vs(params,last_v, last_y, horizon):\n",
    "    om,al,be = params\n",
    "    fcst_vs = np.empty(horizon)\n",
    "    fcst_vs[0] = om + al* last_y**2 + be* last_v\n",
    "    for i in range(1,horizon):\n",
    "        fcst_vs[i] = om + (al+be) * fcst_vs[i-1]\n",
    "    return fcst_vs\n"
   ]
  },
  {
   "cell_type": "code",
   "execution_count": null,
   "metadata": {},
   "outputs": [],
   "source": [
    "#|export\n",
    "\n",
    "@njit\n",
    "def _simulate(params, last_y, last_v, horizon, n_rep, seed, ws=None):\n",
    "    om,al,be = params\n",
    "    if ws is None:\n",
    "        np.random.seed(seed)\n",
    "        ws = np.random.randn(n_rep,horizon)\n",
    "    y = np.empty((n_rep, horizon+1))\n",
    "    v = np.empty((n_rep, horizon+1))\n",
    "    y[:,0] = last_y\n",
    "    v[:,0] = last_v\n",
    "    for i in range(1,horizon+1):\n",
    "        v[:,i] = om + al* y[:,i-1]**2 + be * v[:,i-1]\n",
    "        y[:,i] = np.sqrt(v[:,i]) * ws[:,i-1]\n",
    "    return y[:,1:]\n"
   ]
  },
  {
   "cell_type": "code",
   "execution_count": null,
   "metadata": {},
   "outputs": [],
   "source": [
    "#|export\n",
    "\n",
    "class GARCHETTE:\n",
    "    \"\"\"simple garch model\"\"\"\n",
    "    def __init__(self):\n",
    "        self._y = None\n",
    "        self.params = None\n",
    "        self._is_fit = False\n",
    "        self._v_init = None\n",
    "\n",
    "    def fit(self,y:np.ndarray):\n",
    "        \"\"\"fit y to garch\"\"\"\n",
    "        self._y = y\n",
    "        res = arch_model(y, mean=\"Zero\", rescale=False).fit(disp=\"off\")\n",
    "        self._v_init = y.var() # != res.conditional_volatility[0]**2 but close \n",
    "        func = self.nll\n",
    "        self.params = minimize(func, x0=(self._v_init * 0.4,0.3,0.3), \n",
    "         bounds=[(0,None), (0,None), (0,None)],\n",
    "         constraints= CONSTRAINT\n",
    "         ).x\n",
    "        self._params = res.params.values # (om, al, be) typically != self.params\n",
    "        self._is_fit = True\n",
    "        return self\n",
    "\n",
    "    def nll(self, params)-> float:\n",
    "        \"\"\"negative log likelihood of the series at the given params\"\"\"\n",
    "        # assert self._is_fit\n",
    "        return _nllgauss(self._y, params, self._v_init)\n",
    "\n",
    "    @property\n",
    "    def vs(self) -> np.ndarray:\n",
    "        \"\"\"property: estimated conditional variance, same shape as y\"\"\"\n",
    "        assert self._is_fit\n",
    "        return _get_vs(self._y, self.params, sig2_init = self._v_init)\n",
    "\n",
    "    @property\n",
    "    def std_resids(self) -> np.ndarray:\n",
    "        \"\"\"property: estimated standardized residual\"\"\"\n",
    "        assert self._is_fit\n",
    "        return self._y / np.sqrt(self.vs)\n",
    "\n",
    "    def forecast_vs(self, \n",
    "                    horizon:int\n",
    "                    ) -> np.ndarray:\n",
    "        \"\"\"forecast conditional variance in the horizon\"\"\"\n",
    "        assert self._is_fit\n",
    "        return _make_fcst_vs(self.params, self.vs[-1], self._y[-1], horizon)\n",
    "\n",
    "    def simulate(self, \n",
    "                 horizon:int, # path length\n",
    "                 method:Literal[\"bootstrap\",\"simulate\"]=\"simulate\",# \"bootstrap\" resamples from past std_resids; \"simulate\" simulates gaussian nosie\n",
    "                 n_rep=1_000, # number of repetitions\n",
    "                 seed=42) -> np.ndarray: \n",
    "        assert self._is_fit\n",
    "        if method == \"bootstrap\":\n",
    "            np.random.seed(seed)\n",
    "            ws = np.random.choice(self.std_resids, size=(n_rep, horizon),replace=True)\n",
    "        else: ws=None\n",
    "        return _simulate(self.params,self._y[-1], self.vs[-1], horizon, n_rep, seed, ws)"
   ]
  },
  {
   "cell_type": "code",
   "execution_count": null,
   "metadata": {},
   "outputs": [
    {
     "data": {
      "text/markdown": [
       "---\n",
       "\n",
       "[source](https://github.com/xiaochuany/archette/blob/main/archette/core.py#L80){target=\"_blank\" style=\"float:right; font-size:smaller\"}\n",
       "\n",
       "### GARCHETTE.fit\n",
       "\n",
       ">      GARCHETTE.fit (y:numpy.ndarray)\n",
       "\n",
       "*fit y to garch*"
      ],
      "text/plain": [
       "---\n",
       "\n",
       "[source](https://github.com/xiaochuany/archette/blob/main/archette/core.py#L80){target=\"_blank\" style=\"float:right; font-size:smaller\"}\n",
       "\n",
       "### GARCHETTE.fit\n",
       "\n",
       ">      GARCHETTE.fit (y:numpy.ndarray)\n",
       "\n",
       "*fit y to garch*"
      ]
     },
     "execution_count": null,
     "metadata": {},
     "output_type": "execute_result"
    }
   ],
   "source": [
    "show_doc(GARCHETTE.fit)"
   ]
  },
  {
   "cell_type": "code",
   "execution_count": null,
   "metadata": {},
   "outputs": [
    {
     "data": {
      "text/markdown": [
       "---\n",
       "\n",
       "[source](https://github.com/xiaochuany/archette/blob/main/archette/core.py#L100){target=\"_blank\" style=\"float:right; font-size:smaller\"}\n",
       "\n",
       "### GARCHETTE.vs\n",
       "\n",
       ">      GARCHETTE.vs ()\n",
       "\n",
       "*property: estimated conditional variance, same shape as y*"
      ],
      "text/plain": [
       "---\n",
       "\n",
       "[source](https://github.com/xiaochuany/archette/blob/main/archette/core.py#L100){target=\"_blank\" style=\"float:right; font-size:smaller\"}\n",
       "\n",
       "### GARCHETTE.vs\n",
       "\n",
       ">      GARCHETTE.vs ()\n",
       "\n",
       "*property: estimated conditional variance, same shape as y*"
      ]
     },
     "execution_count": null,
     "metadata": {},
     "output_type": "execute_result"
    }
   ],
   "source": [
    "show_doc(GARCHETTE.vs)"
   ]
  },
  {
   "cell_type": "code",
   "execution_count": null,
   "metadata": {},
   "outputs": [
    {
     "data": {
      "text/markdown": [
       "---\n",
       "\n",
       "[source](https://github.com/xiaochuany/archette/blob/main/archette/core.py#L94){target=\"_blank\" style=\"float:right; font-size:smaller\"}\n",
       "\n",
       "### GARCHETTE.nll\n",
       "\n",
       ">      GARCHETTE.nll (params)\n",
       "\n",
       "*negative log likelihood of the series at the given params*"
      ],
      "text/plain": [
       "---\n",
       "\n",
       "[source](https://github.com/xiaochuany/archette/blob/main/archette/core.py#L94){target=\"_blank\" style=\"float:right; font-size:smaller\"}\n",
       "\n",
       "### GARCHETTE.nll\n",
       "\n",
       ">      GARCHETTE.nll (params)\n",
       "\n",
       "*negative log likelihood of the series at the given params*"
      ]
     },
     "execution_count": null,
     "metadata": {},
     "output_type": "execute_result"
    }
   ],
   "source": [
    "show_doc(GARCHETTE.nll)"
   ]
  },
  {
   "cell_type": "code",
   "execution_count": null,
   "metadata": {},
   "outputs": [
    {
     "data": {
      "text/markdown": [
       "---\n",
       "\n",
       "[source](https://github.com/xiaochuany/archette/blob/main/archette/core.py#L106){target=\"_blank\" style=\"float:right; font-size:smaller\"}\n",
       "\n",
       "### GARCHETTE.std_resids\n",
       "\n",
       ">      GARCHETTE.std_resids ()\n",
       "\n",
       "*property: estimated standardized residual*"
      ],
      "text/plain": [
       "---\n",
       "\n",
       "[source](https://github.com/xiaochuany/archette/blob/main/archette/core.py#L106){target=\"_blank\" style=\"float:right; font-size:smaller\"}\n",
       "\n",
       "### GARCHETTE.std_resids\n",
       "\n",
       ">      GARCHETTE.std_resids ()\n",
       "\n",
       "*property: estimated standardized residual*"
      ]
     },
     "execution_count": null,
     "metadata": {},
     "output_type": "execute_result"
    }
   ],
   "source": [
    "show_doc(GARCHETTE.std_resids)"
   ]
  },
  {
   "cell_type": "code",
   "execution_count": null,
   "metadata": {},
   "outputs": [
    {
     "data": {
      "text/markdown": [
       "---\n",
       "\n",
       "[source](https://github.com/xiaochuany/archette/blob/main/archette/core.py#L111){target=\"_blank\" style=\"float:right; font-size:smaller\"}\n",
       "\n",
       "### GARCHETTE.forecast_vs\n",
       "\n",
       ">      GARCHETTE.forecast_vs (horizon:int)\n",
       "\n",
       "*forecast conditional variance in the horizon*"
      ],
      "text/plain": [
       "---\n",
       "\n",
       "[source](https://github.com/xiaochuany/archette/blob/main/archette/core.py#L111){target=\"_blank\" style=\"float:right; font-size:smaller\"}\n",
       "\n",
       "### GARCHETTE.forecast_vs\n",
       "\n",
       ">      GARCHETTE.forecast_vs (horizon:int)\n",
       "\n",
       "*forecast conditional variance in the horizon*"
      ]
     },
     "execution_count": null,
     "metadata": {},
     "output_type": "execute_result"
    }
   ],
   "source": [
    "show_doc(GARCHETTE.forecast_vs)\n"
   ]
  },
  {
   "cell_type": "code",
   "execution_count": null,
   "metadata": {},
   "outputs": [
    {
     "data": {
      "text/markdown": [
       "---\n",
       "\n",
       "[source](https://github.com/xiaochuany/archette/blob/main/archette/core.py#L118){target=\"_blank\" style=\"float:right; font-size:smaller\"}\n",
       "\n",
       "### GARCHETTE.simulate\n",
       "\n",
       ">      GARCHETTE.simulate (horizon:int,\n",
       ">                          method:Literal['bootstrap','simulate']='simulate',\n",
       ">                          n_rep=1000, seed=42)\n",
       "\n",
       "|    | **Type** | **Default** | **Details** |\n",
       "| -- | -------- | ----------- | ----------- |\n",
       "| horizon | int |  | path length |\n",
       "| method | Literal | simulate | \"bootstrap\" resamples from past std_resids; \"simulate\" simulates gaussian nosie |\n",
       "| n_rep | int | 1000 | number of repetitions |\n",
       "| seed | int | 42 |  |\n",
       "| **Returns** | **ndarray** |  |  |"
      ],
      "text/plain": [
       "---\n",
       "\n",
       "[source](https://github.com/xiaochuany/archette/blob/main/archette/core.py#L118){target=\"_blank\" style=\"float:right; font-size:smaller\"}\n",
       "\n",
       "### GARCHETTE.simulate\n",
       "\n",
       ">      GARCHETTE.simulate (horizon:int,\n",
       ">                          method:Literal['bootstrap','simulate']='simulate',\n",
       ">                          n_rep=1000, seed=42)\n",
       "\n",
       "|    | **Type** | **Default** | **Details** |\n",
       "| -- | -------- | ----------- | ----------- |\n",
       "| horizon | int |  | path length |\n",
       "| method | Literal | simulate | \"bootstrap\" resamples from past std_resids; \"simulate\" simulates gaussian nosie |\n",
       "| n_rep | int | 1000 | number of repetitions |\n",
       "| seed | int | 42 |  |\n",
       "| **Returns** | **ndarray** |  |  |"
      ]
     },
     "execution_count": null,
     "metadata": {},
     "output_type": "execute_result"
    }
   ],
   "source": [
    "show_doc(GARCHETTE.simulate)"
   ]
  },
  {
   "cell_type": "code",
   "execution_count": null,
   "metadata": {},
   "outputs": [],
   "source": [
    "y = np.random.randn(600) * np.arange(600)\n",
    "mod = GARCHETTE().fit(y)"
   ]
  },
  {
   "cell_type": "markdown",
   "metadata": {},
   "source": [
    "The model is mis-specified here.  `arch` and `archette` leads to very different parameters estimates\n",
    "with similar loss.  "
   ]
  },
  {
   "cell_type": "code",
   "execution_count": null,
   "metadata": {},
   "outputs": [
    {
     "name": "stdout",
     "output_type": "stream",
     "text": [
      "parameter fit by achette [2.40340261e+02 1.70882588e-01 8.29117412e-01]: loss 7245.748491456419\n",
      "parameter fit by arch    [5.05115703e+01 4.71131405e-02 9.52886860e-01]: loss 7294.592377094637\n"
     ]
    }
   ],
   "source": [
    "print(f'parameter fit by achette {mod.params}: loss {mod.nll(mod.params)}')\n",
    "print(f'parameter fit by arch    {mod._params}: loss {mod.nll(mod._params)}')"
   ]
  },
  {
   "cell_type": "markdown",
   "metadata": {},
   "source": [
    "Now simulate a new path with `mod.params` as parameter. Both `arch` and `archette` leads to \n",
    "similar parameter estiamtes. "
   ]
  },
  {
   "cell_type": "code",
   "execution_count": null,
   "metadata": {},
   "outputs": [],
   "source": [
    "yy = mod.simulate(600, n_rep=1).squeeze()\n",
    "modyy = GARCHETTE().fit(yy)"
   ]
  },
  {
   "cell_type": "code",
   "execution_count": null,
   "metadata": {},
   "outputs": [
    {
     "data": {
      "text/plain": [
       "(array([2.82225128e+02, 1.74500078e-01, 8.17558089e-01]),\n",
       " array([2.65632412e+02, 1.49297143e-01, 8.36446771e-01]))"
      ]
     },
     "execution_count": null,
     "metadata": {},
     "output_type": "execute_result"
    }
   ],
   "source": [
    "modyy.params, modyy._params"
   ]
  },
  {
   "cell_type": "code",
   "execution_count": null,
   "metadata": {},
   "outputs": [],
   "source": [
    "#| hide\n",
    "import nbdev; nbdev.nbdev_export()"
   ]
  },
  {
   "cell_type": "code",
   "execution_count": null,
   "metadata": {},
   "outputs": [],
   "source": []
  }
 ],
 "metadata": {
  "kernelspec": {
   "display_name": "python3",
   "language": "python",
   "name": "python3"
  }
 },
 "nbformat": 4,
 "nbformat_minor": 4
}
