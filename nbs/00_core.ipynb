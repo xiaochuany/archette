{
 "cells": [
  {
   "cell_type": "markdown",
   "metadata": {},
   "source": [
    "# core\n",
    "\n",
    "> Fill in a module description here"
   ]
  },
  {
   "cell_type": "code",
   "execution_count": null,
   "metadata": {},
   "outputs": [],
   "source": [
    "#| default_exp core"
   ]
  },
  {
   "cell_type": "code",
   "execution_count": null,
   "metadata": {},
   "outputs": [],
   "source": [
    "#| hide\n",
    "from nbdev.showdoc import *"
   ]
  },
  {
   "cell_type": "code",
   "execution_count": null,
   "metadata": {},
   "outputs": [],
   "source": [
    "#|export\n",
    "import numpy as np\n",
    "from arch import arch_model\n",
    "from functools import cached_property"
   ]
  },
  {
   "cell_type": "code",
   "execution_count": null,
   "metadata": {},
   "outputs": [],
   "source": [
    "#|export\n",
    "class GARCHETTE:\n",
    "    \n",
    "    def __init__(self) -> None:\n",
    "        self.params = None\n",
    "        self._is_fit = False\n",
    "        self._sig2_init = None\n",
    "\n",
    "    def fit(self,y):\n",
    "        self._y = y\n",
    "        res = arch_model(y,mean='zero',dist='t').fit(disp='off')\n",
    "        self.params = res.params\n",
    "        self._sig2_init = res.conditional_volatility[0]**2\n",
    "        self._is_fit = True\n",
    "        return self\n",
    "    \n",
    "    @cached_property\n",
    "    def vs(self):\n",
    "        ...\n",
    "\n",
    "    @cached_property\n",
    "    def std_resid(self):\n",
    "        return self._y / np.sqrt(self.vs)\n",
    "\n",
    "    def simulate(self,horizon:int, n_rep=1000):\n",
    "        ..."
   ]
  },
  {
   "cell_type": "code",
   "execution_count": null,
   "metadata": {},
   "outputs": [
    {
     "data": {
      "text/plain": [
       "<__main__.GARCHETTE>"
      ]
     },
     "execution_count": null,
     "metadata": {},
     "output_type": "execute_result"
    }
   ],
   "source": [
    "y = np.random.randn(300)\n",
    "GARCHETTE().fit(y)"
   ]
  },
  {
   "cell_type": "code",
   "execution_count": null,
   "metadata": {},
   "outputs": [],
   "source": [
    "#| hide\n",
    "import nbdev; nbdev.nbdev_export()"
   ]
  },
  {
   "cell_type": "code",
   "execution_count": null,
   "metadata": {},
   "outputs": [],
   "source": []
  }
 ],
 "metadata": {
  "kernelspec": {
   "display_name": "python3",
   "language": "python",
   "name": "python3"
  }
 },
 "nbformat": 4,
 "nbformat_minor": 4
}
