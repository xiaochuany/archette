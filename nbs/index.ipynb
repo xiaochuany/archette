{
 "cells": [
  {
   "cell_type": "code",
   "execution_count": 1,
   "metadata": {},
   "outputs": [],
   "source": [
    "#| hide\n",
    "from archette import GARCHETTE"
   ]
  },
  {
   "cell_type": "markdown",
   "metadata": {},
   "source": [
    "# archette\n",
    "\n",
    "> tiny arch model"
   ]
  },
  {
   "cell_type": "markdown",
   "metadata": {},
   "source": [
    "This file will become your README and also the index of your documentation."
   ]
  },
  {
   "cell_type": "markdown",
   "metadata": {},
   "source": [
    "## Usage"
   ]
  },
  {
   "cell_type": "markdown",
   "metadata": {},
   "source": [
    "### Installation"
   ]
  },
  {
   "cell_type": "markdown",
   "metadata": {},
   "source": [
    "Install latest from the GitHub [repository][repo]:\n",
    "\n",
    "```sh\n",
    "$ pip install git+https://github.com/xiaochuany/archette.git\n",
    "```\n",
    "\n",
    "[repo]: https://github.com/xiaochuany/archette\n",
    "[docs]: https://xiaochuany.github.io/archette/"
   ]
  },
  {
   "cell_type": "markdown",
   "metadata": {},
   "source": [
    "### Documentation"
   ]
  },
  {
   "cell_type": "markdown",
   "metadata": {},
   "source": [
    "Documentation can be found hosted on this GitHub [repository][repo]'s [pages][docs].\n",
    "\n",
    "[repo]: https://github.com/xiaochuany/archette\n",
    "[docs]: https://xiaochuany.github.io/archette/\n",
    "[pypi]: https://pypi.org/project/archette/\n",
    "[conda]: https://anaconda.org/xiaochuany/archette"
   ]
  },
  {
   "cell_type": "markdown",
   "metadata": {},
   "source": [
    "## How to use"
   ]
  },
  {
   "cell_type": "markdown",
   "metadata": {},
   "source": [
    "GARCHETTE is a minimal implementation of the GARCH(1,1) model with zero mean and t noise distribution.  "
   ]
  },
  {
   "cell_type": "code",
   "execution_count": 2,
   "metadata": {},
   "outputs": [],
   "source": [
    "import numpy as np"
   ]
  },
  {
   "cell_type": "code",
   "execution_count": 3,
   "metadata": {},
   "outputs": [
    {
     "data": {
      "text/plain": [
       "<archette.core.GARCHETTE at 0x7926f7c0b410>"
      ]
     },
     "execution_count": 3,
     "metadata": {},
     "output_type": "execute_result"
    }
   ],
   "source": [
    "y = np.random.randn(20)\n",
    "mod = GARCHETTE()\n",
    "mod.fit(y)"
   ]
  },
  {
   "cell_type": "markdown",
   "metadata": {},
   "source": [
    "One can get inspect the fit params: a triplet of omega, alpha and beta as in \n",
    "\n",
    "$$\n",
    "\\begin{align*}\n",
    "Y_t &= \\sigma_t W_t \\\\\n",
    "\\sigma_t^2 &=  \\omega + \\alpha Y_{t-1}^2 + \\beta \\sigma^2_{t-1} \n",
    "\\end{align*}\n",
    "$$"
   ]
  },
  {
   "cell_type": "code",
   "execution_count": 4,
   "metadata": {},
   "outputs": [
    {
     "data": {
      "text/plain": [
       "array([5.35044290e-01, 5.51887136e-17, 7.46091855e-01])"
      ]
     },
     "execution_count": 4,
     "metadata": {},
     "output_type": "execute_result"
    }
   ],
   "source": [
    "mod.params"
   ]
  },
  {
   "cell_type": "markdown",
   "metadata": {},
   "source": [
    "The conditional variance of the fit model is computed by the recursion\n",
    "$$\n",
    "\\hat{\\sigma}_t^2 = \\hat{\\omega} + \\hat{\\alpha} + \\hat{\\beta} \\hat{\\sigma}_{t-1}^2\n",
    "$$\n",
    "which depends entirely on the unobserved $\\sigma_0^2$. \n",
    "The model sets a sensible default value for it. \n",
    "\n"
   ]
  },
  {
   "cell_type": "code",
   "execution_count": 5,
   "metadata": {},
   "outputs": [
    {
     "data": {
      "text/plain": [
       "array([1.29046242, 1.49784779, 1.65257633, 1.76801803, 1.85414814,\n",
       "       1.91840912, 1.96635371, 2.00212478, 2.02881328, 2.04872535,\n",
       "       2.06358159, 2.07466571, 2.08293548, 2.08910549, 2.09370888,\n",
       "       2.09714343, 2.09970592, 2.10161778, 2.1030442 , 2.10410844])"
      ]
     },
     "execution_count": 5,
     "metadata": {},
     "output_type": "execute_result"
    }
   ],
   "source": [
    "mod.vs"
   ]
  },
  {
   "cell_type": "markdown",
   "metadata": {},
   "source": [
    "The standardised residual is deduced from the conditional variance \n",
    "$$\n",
    "r_t = \\frac{y_t}{\\hat{\\sigma}_t}\n",
    "$$"
   ]
  },
  {
   "cell_type": "code",
   "execution_count": 6,
   "metadata": {},
   "outputs": [
    {
     "data": {
      "text/plain": [
       "array([-0.47799613, -0.27976356,  0.5103788 , -0.0533626 ,  1.4564594 ,\n",
       "        0.22381068, -0.17513649, -0.79248877,  0.05083456,  1.06545824,\n",
       "        1.80403929,  0.19133979, -1.02151068, -0.01529507,  0.66761498,\n",
       "       -0.90275061, -0.27395279,  0.07464924, -0.04860764, -0.22528522])"
      ]
     },
     "execution_count": 6,
     "metadata": {},
     "output_type": "execute_result"
    }
   ],
   "source": [
    "mod.std_resids"
   ]
  },
  {
   "cell_type": "markdown",
   "metadata": {},
   "source": [
    "Finally, one can forecast the condtional variance and simulate the process with the fit parameters with a given horizon "
   ]
  },
  {
   "cell_type": "code",
   "execution_count": 7,
   "metadata": {},
   "outputs": [
    {
     "data": {
      "text/plain": [
       "array([2.10490246, 2.10549487, 2.10593686, 2.10626663, 2.10651267])"
      ]
     },
     "execution_count": 7,
     "metadata": {},
     "output_type": "execute_result"
    }
   ],
   "source": [
    "mod.forecast_vs(horizon=5)"
   ]
  },
  {
   "cell_type": "code",
   "execution_count": 8,
   "metadata": {},
   "outputs": [
    {
     "data": {
      "text/plain": [
       "array([[ 0.32471085,  0.27764022, -1.4824006 ,  0.07377611,  1.546388  ],\n",
       "       [ 0.27760116,  0.32475654, -1.31005783, -0.69371495, -0.39761043]])"
      ]
     },
     "execution_count": 8,
     "metadata": {},
     "output_type": "execute_result"
    }
   ],
   "source": [
    "mod.simulate(horizon=5, method=\"bootstrap\", n_rep=2, seed=1)"
   ]
  }
 ],
 "metadata": {
  "kernelspec": {
   "display_name": "python3",
   "language": "python",
   "name": "python3"
  },
  "language_info": {
   "codemirror_mode": {
    "name": "ipython",
    "version": 3
   },
   "file_extension": ".py",
   "mimetype": "text/x-python",
   "name": "python",
   "nbconvert_exporter": "python",
   "pygments_lexer": "ipython3",
   "version": "3.12.1"
  }
 },
 "nbformat": 4,
 "nbformat_minor": 4
}
