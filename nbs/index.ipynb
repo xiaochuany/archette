{
 "cells": [
  {
   "cell_type": "code",
   "execution_count": null,
   "metadata": {},
   "outputs": [],
   "source": [
    "#| hide\n",
    "from archette import GARCHETTE"
   ]
  },
  {
   "cell_type": "markdown",
   "metadata": {},
   "source": [
    "# archette\n",
    "\n",
    "> tiny arch model"
   ]
  },
  {
   "cell_type": "markdown",
   "metadata": {},
   "source": [
    "GARCHETTE is a minimal implementation of the GARCH(1,1) model with zero mean and Gaussian noise."
   ]
  },
  {
   "cell_type": "markdown",
   "metadata": {},
   "source": [
    "## Usage"
   ]
  },
  {
   "cell_type": "markdown",
   "metadata": {},
   "source": [
    "### Installation"
   ]
  },
  {
   "cell_type": "markdown",
   "metadata": {},
   "source": [
    "Install latest from the GitHub [repository][repo]:\n",
    "\n",
    "```sh\n",
    "$ pip install git+https://github.com/xiaochuany/archette.git\n",
    "```\n",
    "\n",
    "[repo]: https://github.com/xiaochuany/archette\n",
    "[docs]: https://xiaochuany.github.io/archette/"
   ]
  },
  {
   "cell_type": "markdown",
   "metadata": {},
   "source": [
    "### Documentation"
   ]
  },
  {
   "cell_type": "markdown",
   "metadata": {},
   "source": [
    "Documentation can be found hosted on this GitHub [repository][repo]'s [pages][docs].\n",
    "\n",
    "[repo]: https://github.com/xiaochuany/archette\n",
    "[docs]: https://xiaochuany.github.io/archette/\n",
    "[pypi]: https://pypi.org/project/archette/\n",
    "[conda]: https://anaconda.org/xiaochuany/archette"
   ]
  },
  {
   "cell_type": "markdown",
   "metadata": {},
   "source": [
    "## How to use"
   ]
  },
  {
   "cell_type": "code",
   "execution_count": null,
   "metadata": {},
   "outputs": [],
   "source": [
    "import numpy as np\n",
    "from archette import GARCHETTE"
   ]
  },
  {
   "cell_type": "code",
   "execution_count": null,
   "metadata": {},
   "outputs": [
    {
     "data": {
      "text/plain": [
       "<archette.core.GARCHETTE>"
      ]
     },
     "execution_count": null,
     "metadata": {},
     "output_type": "execute_result"
    }
   ],
   "source": [
    "y = np.random.randn(20)\n",
    "mod = GARCHETTE()\n",
    "mod.fit(y)"
   ]
  },
  {
   "cell_type": "markdown",
   "metadata": {},
   "source": [
    "One can get inspect the fit params: a triplet of omega, alpha and beta as in \n",
    "\n",
    "$$\n",
    "\\begin{align*}\n",
    "Y_t &= \\sigma_t W_t \\\\\n",
    "\\sigma_t^2 &=  \\omega + \\alpha Y_{t-1}^2 + \\beta \\sigma^2_{t-1} \n",
    "\\end{align*}\n",
    "$$"
   ]
  },
  {
   "cell_type": "code",
   "execution_count": null,
   "metadata": {},
   "outputs": [
    {
     "data": {
      "text/plain": [
       "array([3.53477729e-03, 1.16474111e-12, 9.99999999e-01])"
      ]
     },
     "execution_count": null,
     "metadata": {},
     "output_type": "execute_result"
    }
   ],
   "source": [
    "mod.params"
   ]
  },
  {
   "cell_type": "markdown",
   "metadata": {},
   "source": [
    "The conditional variance of the fit model is computed by the recursion\n",
    "\n",
    "$$\n",
    "\\begin{equation}\n",
    "\\hat{\\sigma}_t^2 = \\hat{\\omega} + \\hat{\\alpha} + \\hat{\\beta} \\hat{\\sigma}_{t-1}^2\n",
    "\\end{equation}\n",
    "$$\n",
    "\n",
    "which depends entirely on the unobserved $\\sigma_0^2$. \n",
    "The model sets a sensible default value for it. \n",
    "\n"
   ]
  },
  {
   "cell_type": "code",
   "execution_count": null,
   "metadata": {},
   "outputs": [
    {
     "data": {
      "text/plain": [
       "array([0.87484097, 0.87837574, 0.88191052, 0.8854453 , 0.88898007,\n",
       "       0.89251485, 0.89604963, 0.8995844 , 0.90311918, 0.90665395,\n",
       "       0.91018873, 0.91372351, 0.91725828, 0.92079306, 0.92432784,\n",
       "       0.92786261, 0.93139739, 0.93493217, 0.93846694, 0.94200172])"
      ]
     },
     "execution_count": null,
     "metadata": {},
     "output_type": "execute_result"
    }
   ],
   "source": [
    "mod.vs"
   ]
  },
  {
   "cell_type": "markdown",
   "metadata": {},
   "source": [
    "The standardised residual is deduced from the conditional variance \n",
    "\n",
    "$$\n",
    "r_t = \\frac{y_t}{\\hat{\\sigma}_t}\n",
    "$$"
   ]
  },
  {
   "cell_type": "code",
   "execution_count": null,
   "metadata": {},
   "outputs": [
    {
     "data": {
      "text/plain": [
       "array([ 0.62885304,  0.92687193, -0.74230796,  1.89461301,  0.14705346,\n",
       "       -0.2527923 ,  0.99041857,  0.67073369,  1.2168398 ,  0.89108207,\n",
       "       -1.63655212, -0.69107348, -0.51659492, -1.21672958,  0.78484646,\n",
       "       -0.24441403, -1.20978739, -0.72337278, -0.75813741,  1.50086911])"
      ]
     },
     "execution_count": null,
     "metadata": {},
     "output_type": "execute_result"
    }
   ],
   "source": [
    "mod.std_resids"
   ]
  },
  {
   "cell_type": "markdown",
   "metadata": {},
   "source": [
    "Finally, one can forecast the condtional variance and simulate the process with the fit parameters with a given horizon "
   ]
  },
  {
   "cell_type": "code",
   "execution_count": null,
   "metadata": {},
   "outputs": [
    {
     "data": {
      "text/plain": [
       "array([0.9455365 , 0.94907127, 0.95260605, 0.95614083, 0.9596756 ])"
      ]
     },
     "execution_count": null,
     "metadata": {},
     "output_type": "execute_result"
    }
   ],
   "source": [
    "mod.forecast_vs(horizon=5)"
   ]
  },
  {
   "cell_type": "code",
   "execution_count": null,
   "metadata": {},
   "outputs": [
    {
     "data": {
      "text/plain": [
       "array([[-0.24581195, -0.67324578, -0.50420459,  1.18985581,  0.87293103],\n",
       "       [-0.67199087, -0.24627099, -0.23855186,  0.61490793, -1.18514443]])"
      ]
     },
     "execution_count": null,
     "metadata": {},
     "output_type": "execute_result"
    }
   ],
   "source": [
    "mod.simulate(horizon=5, method=\"bootstrap\", n_rep=2, seed=1)"
   ]
  },
  {
   "cell_type": "code",
   "execution_count": null,
   "metadata": {},
   "outputs": [],
   "source": []
  }
 ],
 "metadata": {
  "kernelspec": {
   "display_name": "python3",
   "language": "python",
   "name": "python3"
  }
 },
 "nbformat": 4,
 "nbformat_minor": 4
}
