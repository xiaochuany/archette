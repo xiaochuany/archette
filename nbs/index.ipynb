{
 "cells": [
  {
   "cell_type": "code",
   "execution_count": null,
   "metadata": {},
   "outputs": [],
   "source": [
    "#| hide\n",
    "from archette import GARCHETTE"
   ]
  },
  {
   "cell_type": "markdown",
   "metadata": {},
   "source": [
    "# archette\n",
    "\n",
    "> tiny arch model"
   ]
  },
  {
   "cell_type": "markdown",
   "metadata": {},
   "source": [
    "GARCHETTE is a minimal implementation of the GARCH(1,1) model with zero mean and t noise distribution.  "
   ]
  },
  {
   "cell_type": "markdown",
   "metadata": {},
   "source": [
    "## Usage"
   ]
  },
  {
   "cell_type": "markdown",
   "metadata": {},
   "source": [
    "### Installation"
   ]
  },
  {
   "cell_type": "markdown",
   "metadata": {},
   "source": [
    "Install latest from the GitHub [repository][repo]:\n",
    "\n",
    "```sh\n",
    "$ pip install git+https://github.com/xiaochuany/archette.git\n",
    "```\n",
    "\n",
    "[repo]: https://github.com/xiaochuany/archette\n",
    "[docs]: https://xiaochuany.github.io/archette/"
   ]
  },
  {
   "cell_type": "markdown",
   "metadata": {},
   "source": [
    "### Documentation"
   ]
  },
  {
   "cell_type": "markdown",
   "metadata": {},
   "source": [
    "Documentation can be found hosted on this GitHub [repository][repo]'s [pages][docs].\n",
    "\n",
    "[repo]: https://github.com/xiaochuany/archette\n",
    "[docs]: https://xiaochuany.github.io/archette/\n",
    "[pypi]: https://pypi.org/project/archette/\n",
    "[conda]: https://anaconda.org/xiaochuany/archette"
   ]
  },
  {
   "cell_type": "markdown",
   "metadata": {},
   "source": [
    "## How to use"
   ]
  },
  {
   "cell_type": "code",
   "execution_count": null,
   "metadata": {},
   "outputs": [],
   "source": [
    "import numpy as np\n",
    "from archette import GARCHETTE"
   ]
  },
  {
   "cell_type": "code",
   "execution_count": null,
   "metadata": {},
   "outputs": [
    {
     "data": {
      "text/plain": [
       "<archette.core.GARCHETTE>"
      ]
     },
     "execution_count": null,
     "metadata": {},
     "output_type": "execute_result"
    }
   ],
   "source": [
    "y = np.random.randn(20)\n",
    "mod = GARCHETTE()\n",
    "mod.fit(y)"
   ]
  },
  {
   "cell_type": "markdown",
   "metadata": {},
   "source": [
    "One can get inspect the fit params: a triplet of omega, alpha and beta as in \n",
    "\n",
    "$$\n",
    "\\begin{align*}\n",
    "Y_t &= \\sigma_t W_t \\\\\n",
    "\\sigma_t^2 &=  \\omega + \\alpha Y_{t-1}^2 + \\beta \\sigma^2_{t-1} \n",
    "\\end{align*}\n",
    "$$"
   ]
  },
  {
   "cell_type": "code",
   "execution_count": null,
   "metadata": {},
   "outputs": [
    {
     "data": {
      "text/plain": [
       "array([1.04589446e-08, 0.00000000e+00, 9.59108222e-01])"
      ]
     },
     "execution_count": null,
     "metadata": {},
     "output_type": "execute_result"
    }
   ],
   "source": [
    "mod.params"
   ]
  },
  {
   "cell_type": "markdown",
   "metadata": {},
   "source": [
    "The conditional variance of the fit model is computed by the recursion\n",
    "$$\n",
    "\\hat{\\sigma}_t^2 = \\hat{\\omega} + \\hat{\\alpha} + \\hat{\\beta} \\hat{\\sigma}_{t-1}^2\n",
    "$$\n",
    "which depends entirely on the unobserved $\\sigma_0^2$. \n",
    "The model sets a sensible default value for it. \n",
    "\n"
   ]
  },
  {
   "cell_type": "code",
   "execution_count": null,
   "metadata": {},
   "outputs": [
    {
     "data": {
      "text/plain": [
       "array([1.16724226, 1.11951166, 1.07373285, 1.02982602, 0.98771461,\n",
       "       0.94732521, 0.90858741, 0.87143367, 0.83579921, 0.8016219 ,\n",
       "       0.76884217, 0.73740285, 0.70724915, 0.67832849, 0.65059044,\n",
       "       0.62398665, 0.59847074, 0.57399821, 0.55052642, 0.52801442])"
      ]
     },
     "execution_count": null,
     "metadata": {},
     "output_type": "execute_result"
    }
   ],
   "source": [
    "mod.vs"
   ]
  },
  {
   "cell_type": "markdown",
   "metadata": {},
   "source": [
    "The standardised residual is deduced from the conditional variance \n",
    "$$\n",
    "r_t = \\frac{y_t}{\\hat{\\sigma}_t}\n",
    "$$"
   ]
  },
  {
   "cell_type": "code",
   "execution_count": null,
   "metadata": {},
   "outputs": [
    {
     "data": {
      "text/plain": [
       "array([-1.48253982, -1.39672222,  0.46659989,  0.18568779, -0.46756732,\n",
       "        0.88546338, -2.78458467,  1.23434105,  0.21509406, -1.72585335,\n",
       "       -0.1004795 ,  0.9924512 ,  0.80529043, -0.12976872,  0.89918346,\n",
       "        1.18351147,  1.44555856,  0.07340447,  0.50764082,  0.51763172])"
      ]
     },
     "execution_count": null,
     "metadata": {},
     "output_type": "execute_result"
    }
   ],
   "source": [
    "mod.std_resids"
   ]
  },
  {
   "cell_type": "markdown",
   "metadata": {},
   "source": [
    "Finally, one can forecast the condtional variance and simulate the process with the fit parameters with a given horizon "
   ]
  },
  {
   "cell_type": "code",
   "execution_count": null,
   "metadata": {},
   "outputs": [
    {
     "data": {
      "text/plain": [
       "array([0.50642299, 0.48571446, 0.46585274, 0.44680321, 0.42853264])"
      ]
     },
     "execution_count": null,
     "metadata": {},
     "output_type": "execute_result"
    }
   ],
   "source": [
    "mod.forecast_vs(horizon=5)"
   ]
  },
  {
   "cell_type": "code",
   "execution_count": null,
   "metadata": {},
   "outputs": [
    {
     "data": {
      "text/plain": [
       "array([[ 0.63012587,  0.69167118,  0.54963815,  0.14377605, -1.1297851 ],\n",
       "       [ 0.70626204,  0.61710792,  0.80778689, -0.99097913,  0.94629739]])"
      ]
     },
     "execution_count": null,
     "metadata": {},
     "output_type": "execute_result"
    }
   ],
   "source": [
    "mod.simulate(horizon=5, method=\"bootstrap\", n_rep=2, seed=1)"
   ]
  },
  {
   "cell_type": "code",
   "execution_count": null,
   "metadata": {},
   "outputs": [],
   "source": []
  }
 ],
 "metadata": {
  "kernelspec": {
   "display_name": "python3",
   "language": "python",
   "name": "python3"
  }
 },
 "nbformat": 4,
 "nbformat_minor": 4
}
