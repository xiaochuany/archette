{
 "cells": [
  {
   "cell_type": "code",
   "execution_count": null,
   "metadata": {},
   "outputs": [],
   "source": [
    "#| hide\n",
    "from archette import GARCHETTE"
   ]
  },
  {
   "cell_type": "markdown",
   "metadata": {},
   "source": [
    "# archette\n",
    "\n",
    "> tiny arch model"
   ]
  },
  {
   "cell_type": "markdown",
   "metadata": {},
   "source": [
    "GARCHETTE is a minimal implementation of the GARCH(1,1) model with zero mean and Gaussian noise."
   ]
  },
  {
   "cell_type": "markdown",
   "metadata": {},
   "source": [
    "## Usage"
   ]
  },
  {
   "cell_type": "markdown",
   "metadata": {},
   "source": [
    "### Installation"
   ]
  },
  {
   "cell_type": "markdown",
   "metadata": {},
   "source": [
    "Install latest from the GitHub [repository][repo]:\n",
    "\n",
    "```sh\n",
    "$ pip install git+https://github.com/xiaochuany/archette.git\n",
    "```\n",
    "\n",
    "[repo]: https://github.com/xiaochuany/archette\n",
    "[docs]: https://xiaochuany.github.io/archette/"
   ]
  },
  {
   "cell_type": "markdown",
   "metadata": {},
   "source": [
    "### Documentation"
   ]
  },
  {
   "cell_type": "markdown",
   "metadata": {},
   "source": [
    "Documentation can be found hosted on this GitHub [repository][repo]'s [pages][docs].\n",
    "\n",
    "[repo]: https://github.com/xiaochuany/archette\n",
    "[docs]: https://xiaochuany.github.io/archette/\n",
    "[pypi]: https://pypi.org/project/archette/\n",
    "[conda]: https://anaconda.org/xiaochuany/archette"
   ]
  },
  {
   "cell_type": "markdown",
   "metadata": {},
   "source": [
    "## How to use"
   ]
  },
  {
   "cell_type": "code",
   "execution_count": null,
   "metadata": {},
   "outputs": [],
   "source": [
    "import numpy as np\n",
    "from archette import GARCHETTE"
   ]
  },
  {
   "cell_type": "code",
   "execution_count": null,
   "metadata": {},
   "outputs": [
    {
     "data": {
      "text/plain": [
       "<archette.core.GARCHETTE>"
      ]
     },
     "execution_count": null,
     "metadata": {},
     "output_type": "execute_result"
    }
   ],
   "source": [
    "y = np.random.randn(20)\n",
    "mod = GARCHETTE()\n",
    "mod.fit(y)"
   ]
  },
  {
   "cell_type": "markdown",
   "metadata": {},
   "source": [
    "One can get inspect the fit params: a triplet of omega, alpha and beta as in \n",
    "\n",
    "$$\n",
    "\\begin{align*}\n",
    "Y_t &= \\sigma_t W_t \\\\\n",
    "\\sigma_t^2 &=  \\omega + \\alpha Y_{t-1}^2 + \\beta \\sigma^2_{t-1} \n",
    "\\end{align*}\n",
    "$$"
   ]
  },
  {
   "cell_type": "code",
   "execution_count": null,
   "metadata": {},
   "outputs": [
    {
     "data": {
      "text/plain": [
       "array([1.46162489e+00, 0.00000000e+00, 4.34165554e-16])"
      ]
     },
     "execution_count": null,
     "metadata": {},
     "output_type": "execute_result"
    }
   ],
   "source": [
    "mod.params"
   ]
  },
  {
   "cell_type": "markdown",
   "metadata": {},
   "source": [
    "The conditional variance of the fit model is computed by the recursion\n",
    "\n",
    "$$\n",
    "\\hat{\\sigma}_t^2 = \\hat{\\omega} + \\hat{\\alpha} + \\hat{\\beta} \\hat{\\sigma}_{t-1}^2\n",
    "$$\n",
    "\n",
    "which depends entirely on the unobserved $\\sigma_0^2$. \n",
    "The model sets a sensible default value for it. \n",
    "\n"
   ]
  },
  {
   "cell_type": "code",
   "execution_count": null,
   "metadata": {},
   "outputs": [
    {
     "data": {
      "text/plain": [
       "array([1.6637509 , 1.46162489, 1.46162489, 1.46162489, 1.46162489,\n",
       "       1.46162489, 1.46162489, 1.46162489, 1.46162489, 1.46162489,\n",
       "       1.46162489, 1.46162489, 1.46162489, 1.46162489, 1.46162489,\n",
       "       1.46162489, 1.46162489, 1.46162489, 1.46162489, 1.46162489])"
      ]
     },
     "execution_count": null,
     "metadata": {},
     "output_type": "execute_result"
    }
   ],
   "source": [
    "mod.vs"
   ]
  },
  {
   "cell_type": "markdown",
   "metadata": {},
   "source": [
    "The standardised residual is deduced from the conditional variance \n",
    "\n",
    "$$\n",
    "r_t = \\frac{y_t}{\\hat{\\sigma}_t}\n",
    "$$"
   ]
  },
  {
   "cell_type": "code",
   "execution_count": null,
   "metadata": {},
   "outputs": [
    {
     "data": {
      "text/plain": [
       "array([ 1.83606806,  0.40202783, -0.05913285, -0.47174874, -0.59056739,\n",
       "       -2.20575562,  0.71528908,  0.26541164, -0.20129438,  1.33214741,\n",
       "       -0.50849529,  0.2951227 , -0.84969512,  1.53542218,  0.44267321,\n",
       "       -1.95023795, -1.68947028, -0.23377285, -0.18693467,  0.7959041 ])"
      ]
     },
     "execution_count": null,
     "metadata": {},
     "output_type": "execute_result"
    }
   ],
   "source": [
    "mod.std_resids"
   ]
  },
  {
   "cell_type": "markdown",
   "metadata": {},
   "source": [
    "Finally, one can forecast the condtional variance and simulate the process with the fit parameters with a given horizon "
   ]
  },
  {
   "cell_type": "code",
   "execution_count": null,
   "metadata": {},
   "outputs": [
    {
     "data": {
      "text/plain": [
       "array([1.46162489, 1.46162489, 1.46162489, 1.46162489, 1.46162489])"
      ]
     },
     "execution_count": null,
     "metadata": {},
     "output_type": "execute_result"
    }
   ],
   "source": [
    "mod.forecast_vs(horizon=5)"
   ]
  },
  {
   "cell_type": "code",
   "execution_count": null,
   "metadata": {},
   "outputs": [
    {
     "data": {
      "text/plain": [
       "array([[-2.66670736,  0.35679649, -1.02726169, -0.24336023,  1.61053531],\n",
       "       [ 0.35679649, -2.66670736, -2.35779243,  2.21976368, -2.04253036]])"
      ]
     },
     "execution_count": null,
     "metadata": {},
     "output_type": "execute_result"
    }
   ],
   "source": [
    "mod.simulate(horizon=5, method=\"bootstrap\", n_rep=2, seed=1)"
   ]
  },
  {
   "cell_type": "code",
   "execution_count": null,
   "metadata": {},
   "outputs": [],
   "source": []
  }
 ],
 "metadata": {
  "kernelspec": {
   "display_name": "python3",
   "language": "python",
   "name": "python3"
  }
 },
 "nbformat": 4,
 "nbformat_minor": 4
}
